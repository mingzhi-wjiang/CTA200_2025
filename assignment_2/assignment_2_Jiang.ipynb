{
 "cells": [
  {
   "cell_type": "code",
   "execution_count": 41,
   "id": "d1dfe009",
   "metadata": {},
   "outputs": [
    {
     "name": "stdout",
     "output_type": "stream",
     "text": [
      "Found root in  9 iterations.\n",
      "2.0846235848637207e-09\n",
      "Iteration failed. A division of zero error arised.\n",
      "The last iteration is 0 where f(x_n) is,  -1\n",
      "None\n"
     ]
    }
   ],
   "source": [
    "def f(x:float) -> float:\n",
    "    \"\"\"\n",
    "    f(x)=x^3 - x^2 - 1\n",
    "    \n",
    "    Parameters\n",
    "    ----------\n",
    "    x: input of f(x)\n",
    "    \n",
    "    Returns\n",
    "    ----------\n",
    "    x^3 - x^2 - 1: output of f(x)\n",
    "    \"\"\"\n",
    "    return x**3-x**2-1\n",
    "\n",
    "def df(x:float) -> float:\n",
    "    \"\"\"\n",
    "    df/dx(x) = 3x^2 - 2x\n",
    "    \n",
    "    Parameters\n",
    "    ----------\n",
    "    x: input of df(x)\n",
    "    \n",
    "    Returns\n",
    "    ----------\n",
    "    3x^2 - 2x: output of df(x)\n",
    "    \"\"\"\n",
    "    return 3*x**2 - 2*x\n",
    "\n",
    "def newton(f, df, x0, epsilon=1e-6, max_iter=30, num_iter=0):\n",
    "    \"\"\"\n",
    "    Newton Iteration Method: this function finds the roots of f(x) in N iterations at xn given some initial value x_0.\n",
    "    \n",
    "    Parameters\n",
    "    ----------\n",
    "    f: function which we want to find roots of.\n",
    "    df: derivative of f with respect to x.\n",
    "    x0: initial guess of root.\n",
    "    epsilon: upper limit of error for f(xn) - 0.\n",
    "    max_iter: maximum number of iterations allowed for roots finding.\n",
    "    num_iter: counter for the number of iterations.\n",
    "    \n",
    "    Returns\n",
    "    ----------\n",
    "    If Newton Iteration Method succeeds (an approximation of root whose value is within error of epsilon is found within the maximum amount of iteration):\n",
    "        prints \"Found root in <number> iterations\"\n",
    "        and returns f(xn)\n",
    "    If the method fails:\n",
    "        prints \"Iteration failed\"\n",
    "        returns None\n",
    "    If the method fails because of a division of zero error (df(xn) = 0):\n",
    "        prints \"Iteration failed. A division of zero error arised.\n",
    "                The last iteration is <number of iterations> where f(x_n) is <f(x_n)>\"\n",
    "        \n",
    "    \"\"\"\n",
    "    num_iter += 1\n",
    "    if abs(f(x0)) < epsilon:\n",
    "        print(\"Found root in \", num_iter - 1, \"iterations.\")\n",
    "        return f(x0)\n",
    "    elif max_iter < 0:\n",
    "        print(\"Iteration failed.\")\n",
    "        return None\n",
    "    else:\n",
    "        if df(x0) == 0:\n",
    "            print(\"Iteration failed. A division of zero error arised.\")\n",
    "            print(\"The last iteration is\", num_iter - 1, \"where f(x_n) is, \", f(x0))\n",
    "            return None\n",
    "        x1 = x0 - f(x0)/df(x0)\n",
    "        result = newton(f, df, x1, epsilon, max_iter - 1, num_iter)\n",
    "        return result\n",
    "    \n",
    "print(newton(f, df, 10))\n",
    "print(newton(f, df, 0))"
   ]
  },
  {
   "cell_type": "code",
   "execution_count": null,
   "id": "f47666b4",
   "metadata": {},
   "outputs": [],
   "source": []
  }
 ],
 "metadata": {
  "kernelspec": {
   "display_name": "Python 3 (ipykernel)",
   "language": "python",
   "name": "python3"
  },
  "language_info": {
   "codemirror_mode": {
    "name": "ipython",
    "version": 3
   },
   "file_extension": ".py",
   "mimetype": "text/x-python",
   "name": "python",
   "nbconvert_exporter": "python",
   "pygments_lexer": "ipython3",
   "version": "3.10.2"
  }
 },
 "nbformat": 4,
 "nbformat_minor": 5
}
